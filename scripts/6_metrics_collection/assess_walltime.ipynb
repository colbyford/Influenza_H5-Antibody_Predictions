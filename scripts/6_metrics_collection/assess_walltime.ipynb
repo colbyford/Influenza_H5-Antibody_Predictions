{
 "cells": [
  {
   "cell_type": "markdown",
   "metadata": {},
   "source": [
    "# Assess HADDOCK3 Pipeline Walltime"
   ]
  },
  {
   "cell_type": "code",
   "execution_count": 4,
   "metadata": {},
   "outputs": [],
   "source": [
    "import os, re\n",
    "import pandas as pd"
   ]
  },
  {
   "cell_type": "code",
   "execution_count": 8,
   "metadata": {},
   "outputs": [],
   "source": [
    "## Read in Experiments worksheet\n",
    "experiments = pd.read_excel('../../Experiments.xlsx', sheet_name='Experiments')"
   ]
  },
  {
   "cell_type": "code",
   "execution_count": 11,
   "metadata": {},
   "outputs": [
    {
     "name": "stdout",
     "output_type": "stream",
     "text": [
      "Average Walltime: 878.0022259321091, Range: 2183\n"
     ]
    }
   ],
   "source": [
    "walltimes = []\n",
    "\n",
    "for index, experiment in experiments.iterrows():\n",
    "    experiment_id = experiment['experiment_id']\n",
    "    logfile = f\"../../data/results/{experiment_id}/output/log\"\n",
    "\n",
    "    ## Read second to last line of file\n",
    "    with open(logfile, 'r') as file:\n",
    "        lines = file.readlines()\n",
    "        if len(lines) >= 2:\n",
    "            time_log_line = lines[-2]\n",
    "\n",
    "            ## Example: \"[2024-06-19 08:11:30,745 cli INFO] This HADDOCK3 run took: 14 minutes and 22 seconds\"\n",
    "            took_match = re.search(r'took: (.*)$', time_log_line)\n",
    "            if took_match:\n",
    "                duration_str = took_match.group(1)  ## Get the part after \"took: \"\n",
    "\n",
    "                ## Try to extract minutes\n",
    "                minutes_match = re.search(r'(\\d+) minutes', duration_str)\n",
    "                if minutes_match:\n",
    "                    minutes = int(minutes_match.group(1))\n",
    "                \n",
    "                ## Try to extract seconds\n",
    "                seconds_match = re.search(r'(\\d+) seconds', duration_str)\n",
    "                if seconds_match:\n",
    "                    seconds = int(seconds_match.group(1))\n",
    "                \n",
    "                ## Convert minutes to seconds and add to total\n",
    "                total_walltime_seconds = minutes * 60 + seconds\n",
    "\n",
    "                walltimes.append(total_walltime_seconds)\n",
    "\n",
    "walltime_average = sum(walltimes)/len(walltimes)\n",
    "walltime_min = min(walltimes)\n",
    "walltime_max = max(walltimes)\n",
    "\n",
    "print(f\"Average Walltime: {walltime_average}, Range: {walltime_max-walltime_min}\")"
   ]
  }
 ],
 "metadata": {
  "kernelspec": {
   "display_name": "base",
   "language": "python",
   "name": "python3"
  },
  "language_info": {
   "codemirror_mode": {
    "name": "ipython",
    "version": 3
   },
   "file_extension": ".py",
   "mimetype": "text/x-python",
   "name": "python",
   "nbconvert_exporter": "python",
   "pygments_lexer": "ipython3",
   "version": "3.8.5"
  }
 },
 "nbformat": 4,
 "nbformat_minor": 2
}
