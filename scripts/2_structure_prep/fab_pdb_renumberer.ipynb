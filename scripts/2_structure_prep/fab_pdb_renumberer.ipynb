{
 "cells": [
  {
   "cell_type": "markdown",
   "metadata": {},
   "source": [
    "# Antibody PDB Renumberer"
   ]
  },
  {
   "cell_type": "code",
   "execution_count": 1,
   "metadata": {},
   "outputs": [],
   "source": [
    "import pandas as pd\n",
    "import pymol.cmd as cmd\n",
    "# from ipymol import viewer as cmd"
   ]
  },
  {
   "cell_type": "code",
   "execution_count": 2,
   "metadata": {},
   "outputs": [],
   "source": [
    "antibodies = pd.read_excel('../../Experiments.xlsx', sheet_name='Antibodies')"
   ]
  },
  {
   "cell_type": "code",
   "execution_count": 3,
   "metadata": {},
   "outputs": [
    {
     "name": "stdout",
     "output_type": "stream",
     "text": [
      "FLD194\n",
      "Making: ../..//data/structures/antibodies/FLD194/5a3i_chainsHandL_renumberedLplus1000.pdb\n",
      " PyMOL not running, entering library mode (experimental)\n"
     ]
    }
   ],
   "source": [
    "for index, antibody in antibodies.iterrows():\n",
    "    print(antibody['antibody_id'])\n",
    "    file = f\"../../{antibody['antibody_pdb_path_original']}\"\n",
    "\n",
    "    output_file = file.replace(\".pdb\", \"_renumberedLplus1000.pdb\")\n",
    "    print(f\"Making: {output_file}\")\n",
    "\n",
    "    ## PyMol Renumber\n",
    "    cmd.load(file)\n",
    "\n",
    "    ## Change chains to H and L (if necessary)\n",
    "    cmd.alter('chain A', \"chain='H'\")\n",
    "    cmd.alter('chain B', \"chain='L'\")\n",
    "    cmd.alter('chain L', 'resi=int(resi)+1000')\n",
    "    cmd.save(output_file, selection='all', format='pdb')\n",
    "    cmd.reinitialize('everything')"
   ]
  },
  {
   "cell_type": "code",
   "execution_count": null,
   "metadata": {},
   "outputs": [],
   "source": []
  }
 ],
 "metadata": {
  "kernelspec": {
   "display_name": "Python 3",
   "language": "python",
   "name": "python3"
  },
  "language_info": {
   "codemirror_mode": {
    "name": "ipython",
    "version": 3
   },
   "file_extension": ".py",
   "mimetype": "text/x-python",
   "name": "python",
   "nbconvert_exporter": "python",
   "pygments_lexer": "ipython3",
   "version": "3.7.13"
  }
 },
 "nbformat": 4,
 "nbformat_minor": 2
}
