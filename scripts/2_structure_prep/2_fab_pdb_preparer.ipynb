{
 "cells": [
  {
   "cell_type": "markdown",
   "metadata": {},
   "source": [
    "# Antibody PDB Preparer\n",
    "(Renumberer and Rechainer)"
   ]
  },
  {
   "cell_type": "code",
   "execution_count": 1,
   "metadata": {},
   "outputs": [],
   "source": [
    "import pandas as pd\n",
    "import pymol.cmd as cmd"
   ]
  },
  {
   "cell_type": "code",
   "execution_count": 12,
   "metadata": {},
   "outputs": [],
   "source": [
    "antibodies = pd.read_excel('../../Experiments.xlsx', sheet_name='Antibodies')"
   ]
  },
  {
   "cell_type": "code",
   "execution_count": 13,
   "metadata": {},
   "outputs": [
    {
     "name": "stdout",
     "output_type": "stream",
     "text": [
      "FLD194\n",
      "\tMaking: ../../data/structures/antibodies/FLD194/5a3i_chainsHandL_renumberedLplus1000_oneAchain.pdb\n",
      "H5.3\n",
      "\tMaking: ../../data/structures/antibodies/H5.3/4xrc_chainsAandB_renumberedLplus1000_oneAchain.pdb\n",
      "65C6\n",
      "\tMaking: ../../data/structures/antibodies/65C6/5dum_chainsHandL_renumberedLplus1000_oneAchain.pdb\n",
      "100F4\n",
      "\tMaking: ../../data/structures/antibodies/100F4/5dur_chainsHandL_renumberedLplus1000_oneAchain.pdb\n",
      "3C11\n",
      "\tMaking: ../../data/structures/antibodies/3C11/6IUV_chainsAandB_renumberedLplus1000_oneAchain.pdb\n",
      "AVFluIgG01\n",
      "\tMaking: ../../data/structures/antibodies/AVFluIgG01/6IUT_chainsHandL_renumberedLplus1000_oneAchain.pdb\n",
      "FLD21.140\n",
      "\tMaking: ../../data/structures/antibodies/FLD21.140/6a67_chainsHandL_renumberedLplus1000_oneAchain.pdb\n",
      "H5M9\n",
      "\tMaking: ../../data/structures/antibodies/H5M9/4MHH_chainsAandB_renumberedLplus1000_oneAchain.pdb\n",
      "13D4\n",
      "\tMaking: ../../data/structures/antibodies/13D4/6A0Z_chainsHandL_renumberedLplus1000_oneAchain.pdb\n",
      "AVFluIgG03\n",
      "\tMaking: ../../data/structures/antibodies/AVFluIgG03/5DUP_chainsAandB_renumberedLplus1000_oneAchain.pdb\n"
     ]
    },
    {
     "name": "stderr",
     "output_type": "stream",
     "text": [
      "Error in sys.excepthook:\n",
      "Traceback (most recent call last):\n",
      "  File \"c:\\ProgramData\\PyMOL2.4.1\\lib\\site-packages\\IPython\\core\\interactiveshell.py\", line 2077, in showtraceback\n",
      "    stb = value._render_traceback_()\n",
      "AttributeError: 'ValueError' object has no attribute '_render_traceback_'\n",
      "\n",
      "During handling of the above exception, another exception occurred:\n",
      "\n",
      "Traceback (most recent call last):\n",
      "  File \"c:\\ProgramData\\PyMOL2.4.1\\lib\\site-packages\\IPython\\core\\interactiveshell.py\", line 2080, in showtraceback\n",
      "    value, tb, tb_offset=tb_offset)\n",
      "  File \"c:\\ProgramData\\PyMOL2.4.1\\lib\\site-packages\\IPython\\core\\ultratb.py\", line 1368, in structured_traceback\n",
      "    self, etype, value, tb, tb_offset, number_of_lines_of_context)\n",
      "  File \"c:\\ProgramData\\PyMOL2.4.1\\lib\\site-packages\\IPython\\core\\ultratb.py\", line 1268, in structured_traceback\n",
      "    self, etype, value, tb, tb_offset, number_of_lines_of_context\n",
      "  File \"c:\\ProgramData\\PyMOL2.4.1\\lib\\site-packages\\IPython\\core\\ultratb.py\", line 1125, in structured_traceback\n",
      "    tb_offset)\n",
      "  File \"c:\\ProgramData\\PyMOL2.4.1\\lib\\site-packages\\IPython\\core\\ultratb.py\", line 1084, in format_exception_as_a_whole\n",
      "    frames = self.format_records(records, last_unique, recursion_repeat)\n",
      "  File \"c:\\ProgramData\\PyMOL2.4.1\\lib\\site-packages\\IPython\\core\\ultratb.py\", line 823, in format_records\n",
      "    if r[0].f_locals.get(\"__tracebackhide__\", 0) and i != lastrecord:\n",
      "AttributeError: 'wrapper.Wrapper' object has no attribute 'get'\n",
      "\n",
      "Original exception was:\n",
      "Traceback (most recent call last):\n",
      "  File \"\", line 1, in <module>\n",
      "ValueError: invalid literal for int() with base 10: '27B'\n"
     ]
    },
    {
     "name": "stdout",
     "output_type": "stream",
     "text": [
      "12H5\n",
      "\tMaking: ../../data/structures/antibodies/12H5/7fah_renumberedLplus1000_oneAchain.pdb\n"
     ]
    }
   ],
   "source": [
    "for index, antibody in antibodies.iterrows():\n",
    "    print(antibody['antibody_id'])\n",
    "    file = f\"../..{antibody['antibody_pdb_path_original']}\"\n",
    "\n",
    "    # output_file = file.replace(\".pdb\", \"_renumberedLplus1000_oneAchain.pdb\")\n",
    "    output_file = f\"../..{antibody['antibody_pdb_path_renumbered']}\"\n",
    "    print(f\"\\tMaking: {output_file}\")\n",
    "\n",
    "    ## Read in file\n",
    "    cmd.load(file)\n",
    "\n",
    "    ## Change chains to H and L (if necessary)\n",
    "    cmd.alter('chain A', \"chain='H'\")\n",
    "    cmd.alter('chain B', \"chain='L'\")\n",
    "\n",
    "    ## Renumber L chain to start at 1000\n",
    "    cmd.alter('chain L', 'resi=int(resi)+1000')\n",
    "    \n",
    "    ## Put everything in chain A\n",
    "    cmd.alter('all', \"chain='A'\")\n",
    "    \n",
    "    ## Save the PDB file\n",
    "    cmd.save(output_file, selection='all', format='pdb')\n",
    "    cmd.reinitialize('everything')"
   ]
  },
  {
   "cell_type": "code",
   "execution_count": null,
   "metadata": {},
   "outputs": [],
   "source": []
  }
 ],
 "metadata": {
  "kernelspec": {
   "display_name": "Python 3",
   "language": "python",
   "name": "python3"
  },
  "language_info": {
   "codemirror_mode": {
    "name": "ipython",
    "version": 3
   },
   "file_extension": ".py",
   "mimetype": "text/x-python",
   "name": "python",
   "nbconvert_exporter": "python",
   "pygments_lexer": "ipython3",
   "version": "3.7.13"
  }
 },
 "nbformat": 4,
 "nbformat_minor": 2
}
