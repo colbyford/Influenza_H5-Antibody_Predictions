{
 "cells": [
  {
   "cell_type": "markdown",
   "metadata": {},
   "source": [
    "# Find Polar Contacts"
   ]
  },
  {
   "cell_type": "code",
   "execution_count": 3,
   "metadata": {},
   "outputs": [],
   "source": [
    "from biopandas.pdb import PandasPdb\n",
    "import pandas as pd\n",
    "import numpy as np\n",
    "from scipy.spatial.distance import cdist"
   ]
  },
  {
   "cell_type": "code",
   "execution_count": 4,
   "metadata": {},
   "outputs": [],
   "source": [
    "## Read in Experiments worksheet\n",
    "experiments = pd.read_excel('../../../Experiments.xlsx', sheet_name='Experiments')#.head(1)\n",
    "# experiments"
   ]
  },
  {
   "cell_type": "code",
   "execution_count": 5,
   "metadata": {},
   "outputs": [],
   "source": [
    "def find_polar_contacts(pdb_path: str, chain1: str, chain2: str, cutoff=3.5):\n",
    "    \"\"\"\n",
    "    Find polar contacts between two input chains in a PDB file using BioPandas.\n",
    "    \n",
    "    Parameters:\n",
    "    pdb_path (str): Path to the PDB file.\n",
    "    chain1 (str): Identifier for the first chain.\n",
    "    chain2 (str): Identifier for the second chain.\n",
    "    cutoff (float): Distance cutoff for identifying polar contacts.\n",
    "    \n",
    "    Returns:\n",
    "    dict: A dictionary with chain identifiers as keys and lists of residue numbers involved in polar contacts as values.\n",
    "    \"\"\"\n",
    "    ## Load PDB file\n",
    "    ppdb = PandasPdb().read_pdb(pdb_path)\n",
    "    df = ppdb.df['ATOM']\n",
    "\n",
    "    ## Select polar atoms (N, O) from each chain\n",
    "    polar_atoms_chain1 = df[(df['chain_id'] == chain1) & (df['element_symbol'].isin(['N', 'O']))]\n",
    "    polar_atoms_chain2 = df[(df['chain_id'] == chain2) & (df['element_symbol'].isin(['N', 'O']))]\n",
    "\n",
    "    ## Calculate pairwise distances between polar atoms\n",
    "    distances = cdist(polar_atoms_chain1[['x_coord', 'y_coord', 'z_coord']].values, \n",
    "                      polar_atoms_chain2[['x_coord', 'y_coord', 'z_coord']].values)\n",
    "\n",
    "    ## Find pairs of atoms within the distance cutoff\n",
    "    pairs = np.argwhere(distances <= cutoff)\n",
    "\n",
    "    ## Find corresponding residue numbers and names\n",
    "    residue_numbers_chain1 = polar_atoms_chain1['residue_number'].values\n",
    "    residue_numbers_chain2 = polar_atoms_chain2['residue_number'].values\n",
    "\n",
    "    residue_names_chain1 = polar_atoms_chain1['residue_name'].values\n",
    "    residue_names_chain2 = polar_atoms_chain2['residue_name'].values\n",
    "\n",
    "    polar_contact_residues = []\n",
    "    for pair in pairs:\n",
    "        polar_contact_residues.append([\n",
    "            residue_names_chain1[pair[0]],\n",
    "            residue_numbers_chain1[pair[0]],\n",
    "            residue_names_chain2[pair[1]],\n",
    "            residue_numbers_chain2[pair[1]]\n",
    "            ])\n",
    "\n",
    "    ## Make polar contact residues a set\n",
    "    polar_contact_residues = set(map(tuple, polar_contact_residues))\n",
    "\n",
    "    ## Assemble dictionary\n",
    "    polar_contact_residues_dict = {\n",
    "        f\"resn_chain{chain1}\": [],\n",
    "        f\"resi_chain{chain1}\": [],\n",
    "        f\"resn_chain{chain2}\": [],\n",
    "        f\"resi_chain{chain2}\": []\n",
    "        }\n",
    "    \n",
    "    for pair in polar_contact_residues:\n",
    "        polar_contact_residues_dict[f\"resn_chain{chain1}\"].append(pair[0])\n",
    "        polar_contact_residues_dict[f\"resi_chain{chain1}\"].append(pair[1])\n",
    "        polar_contact_residues_dict[f\"resn_chain{chain2}\"].append(pair[2])\n",
    "        polar_contact_residues_dict[f\"resi_chain{chain2}\"].append(pair[3])\n",
    "\n",
    "    ## Convert to dataframe\n",
    "    polar_contact_residues_df = pd.DataFrame(polar_contact_residues_dict)\n",
    "\n",
    "    return polar_contact_residues_df"
   ]
  },
  {
   "cell_type": "code",
   "execution_count": 6,
   "metadata": {},
   "outputs": [],
   "source": [
    "## Define chains and cutoff\n",
    "chain1 = \"A\"\n",
    "chain2 = \"B\"\n",
    "cutoff = 3\n",
    "\n",
    "## Define start and end residues of RBD\n",
    "resi_start = 111\n",
    "resi_end = 269\n",
    "residue_numbers = [f\"pos_{i}\" for i in range(resi_start, resi_end+1)]\n",
    "\n",
    "## Make dataframe\n",
    "positions = pd.DataFrame(columns=[\"experiment_id\", \"pdb_path\"] + residue_numbers)\n",
    "\n",
    "## Loop through experiments and get interfacing residues\n",
    "for index, experiment in experiments.iterrows():\n",
    "    experiment_id = experiment['experiment_id']\n",
    "    pdb_path = f\"../../../data/results/{experiment_id}/output/08_mdscoring/{experiment['best_model_name']}\"\n",
    "\n",
    "    contacts = find_polar_contacts(pdb_path, chain1, chain2, cutoff)\n",
    "\n",
    "    ## Fill with zeros\n",
    "    positions.loc[index] = 0\n",
    "\n",
    "    ## Fill with ones where there was a contact on the antigen (chain B)\n",
    "    for pos in set(contacts[\"resi_chainB\"].tolist()):\n",
    "        positions.loc[index, f\"pos_{pos}\"] = 1\n",
    "\n",
    "    positions.loc[index, \"experiment_id\"] = experiment_id\n",
    "    positions.loc[index, \"pdb_path\"] = pdb_path"
   ]
  },
  {
   "cell_type": "code",
   "execution_count": 7,
   "metadata": {},
   "outputs": [],
   "source": [
    "positions.to_csv(\"polar_contacts.csv\", index=False)"
   ]
  },
  {
   "cell_type": "markdown",
   "metadata": {},
   "source": [
    "-----------------\n",
    "## PyMOL Highlighter"
   ]
  },
  {
   "cell_type": "code",
   "execution_count": 8,
   "metadata": {},
   "outputs": [],
   "source": [
    "## Get sum of each column\n",
    "positions_total = positions.drop(columns=[\"experiment_id\", \"pdb_path\"]).sum(axis=0).to_dict()\n",
    "\n",
    "## Shift experiment residues to match PDB 1RD8 (as per Sriwilajaroen and Suzuki (2012))\n",
    "resi_shift = -3\n",
    "\n",
    "positions_total_shifted= {}\n",
    "for key, value in positions_total.items():\n",
    "    new_key = int(key.replace(\"pos_\", \"\")) + resi_shift\n",
    "    positions_total_shifted[new_key] = positions_total[key]"
   ]
  },
  {
   "cell_type": "code",
   "execution_count": 77,
   "metadata": {},
   "outputs": [],
   "source": [
    "## Scale values from [0,1]\n",
    "positions_shifted_scaled = {k: v / max(positions_total_shifted.values()) for k, v in positions_total_shifted.items()}\n",
    "\n",
    "## Derive prevalence by number of experiments\n",
    "n_experiments = len(experiments)\n",
    "positions_shifted_prev = {k: v / n_experiments for k, v in positions_total_shifted.items()}"
   ]
  },
  {
   "cell_type": "code",
   "execution_count": 81,
   "metadata": {},
   "outputs": [
    {
     "data": {
      "image/png": "[encoded data removed]",
      "text/html": [
       "<div style=\"vertical-align: middle;\"><strong>from_list</strong> </div><div class=\"cmap\"><img alt=\"from_list colormap\" title=\"from_list\" style=\"border: 1px solid #555;\" src=\"data:image/png;base64,iVBORw0KGgoAAAANSUhEUgAAAgAAAABACAYAAABsv8+/AAAAGHRFWHRUaXRsZQBmcm9tX2xpc3QgY29sb3JtYXBDL89FAAAAHnRFWHREZXNjcmlwdGlvbgBmcm9tX2xpc3QgY29sb3JtYXABtCnOAAAAMHRFWHRBdXRob3IATWF0cGxvdGxpYiB2My41LjMsIGh0dHBzOi8vbWF0cGxvdGxpYi5vcmdn0eiSAAAAMnRFWHRTb2Z0d2FyZQBNYXRwbG90bGliIHYzLjUuMywgaHR0cHM6Ly9tYXRwbG90bGliLm9yZ0l3d7UAAAGNSURBVHic7da5SYVhFADRqyD6XFAwsQ/7r8E2BAP3BQOfwavh+5M5p4FJ52hmv58N3G8RmZm7DRq387dBZeZmfpc3rudneePQ+V7euJqv5Y1D53N543I+ljdmZi7mfZPO+bwtb+w2aGzV2c3r8sbMzNm8LG+czvPyxqHztLxxMo/LGzMzx/OwUQcAyDEAABBkAAAgyAAAQJABAIAgAwAAQQYAAIIMAAAEGQAACDIAABBkAAAgyAAAQJABAIAgAwAAQQYAAIIMAAAEGQAACDIAABBkAAAgyAAAQJABAIAgAwAAQQYAAIIMAAAEGQAACDIAABBkAAAgyAAAQJABAIAgAwAAQQYAAIIMAAAEGQAACDIAABBkAAAgyAAAQJABAIAgAwAAQQYAAIIMAAAEGQAACDIAABBkAAAgyAAAQJABAIAgAwAAQQYAAIIMAAAEGQAACDIAABBkAAAgyAAAQJABAIAgAwAAQQYAAIIMAAAEGQAACDIAABBkAAAgyAAAQJABAIAgAwAAQQYAAIL+Ab8BE35Q+c76AAAAAElFTkSuQmCC\"></div><div style=\"vertical-align: middle; max-width: 514px; display: flex; justify-content: space-between;\"><div style=\"float: left;\"><div title=\"#0000ffff\" style=\"display: inline-block; width: 1em; height: 1em; margin: 0; vertical-align: middle; border: 1px solid #555; background-color: #0000ffff;\"></div> under</div><div style=\"margin: 0 auto; display: inline-block;\">bad <div title=\"#00000000\" style=\"display: inline-block; width: 1em; height: 1em; margin: 0; vertical-align: middle; border: 1px solid #555; background-color: #00000000;\"></div></div><div style=\"float: right;\">over <div title=\"#ff0000ff\" style=\"display: inline-block; width: 1em; height: 1em; margin: 0; vertical-align: middle; border: 1px solid #555; background-color: #ff0000ff;\"></div></div>"
      ],
      "text/plain": [
       "<matplotlib.colors.ListedColormap at 0x264ba707fc8>"
      ]
     },
     "execution_count": 81,
     "metadata": {},
     "output_type": "execute_result"
    }
   ],
   "source": [
    "blue_to_red_colors = [\n",
    "    '#0000ff',\n",
    "    '#3300ff',\n",
    "    '#4b00ff',\n",
    "    '#5e00fd',\n",
    "    '#6e00f7',\n",
    "    '#7d00ef',\n",
    "    '#8c00e6',\n",
    "    '#9900dc',\n",
    "    '#a600d1',\n",
    "    '#b200c5',\n",
    "    '#bd00b8',\n",
    "    '#c700aa',\n",
    "    '#d0009c',\n",
    "    '#d9008e',\n",
    "    '#e2007f',\n",
    "    '#ea006f',\n",
    "    '#f1005e',\n",
    "    '#f80049',\n",
    "    '#fd0031',\n",
    "    '#ff0000'\n",
    "]\n",
    "\n",
    "## Show color scale with matplotlib\n",
    "import matplotlib.pyplot as plt\n",
    "import matplotlib.colors as mcolors\n",
    "\n",
    "# fig, ax = plt.subplots(1, 1, figsize=(10, 1))\n",
    "cmap = mcolors.ListedColormap(blue_to_red_colors)\n",
    "cmap\n",
    "# norm = mcolors.BoundaryNorm(list(positions_shifted_colors.keys()), cmap.N)\n",
    "# cb1 = mcolors.ColorbarBase(ax, cmap=cmap, norm=norm, orientation='horizontal')\n",
    "# cb1.set_label('Residue position')\n",
    "# plt.show()"
   ]
  },
  {
   "cell_type": "code",
   "execution_count": 78,
   "metadata": {},
   "outputs": [
    {
     "name": "stdout",
     "output_type": "stream",
     "text": [
      "Min: 0x0000ff\n",
      "Max: 0xff0000\n"
     ]
    }
   ],
   "source": [
    "## Convert to continuous hex color scale between blue and red\n",
    "positions_shifted_colors = {k: blue_to_red_colors[int(v/(1/19))].replace(\"#\", \"0x\") for k, v in positions_shifted_scaled.items()}\n",
    "\n",
    "print(f\"Min: {min(positions_shifted_colors.values())}\\nMax: {max(positions_shifted_colors.values())}\")\n",
    "# positions_shifted_colors"
   ]
  },
  {
   "cell_type": "code",
   "execution_count": 134,
   "metadata": {},
   "outputs": [
    {
     "data": {
      "text/plain": [
       "1"
      ]
     },
     "execution_count": 134,
     "metadata": {},
     "output_type": "execute_result"
    }
   ],
   "source": [
    "from pymol import cmd\n",
    "\n",
    "ref_pdb_path = \"1rd9_HA1_chainA.pdb\"\n",
    "\n",
    "cmd.reinitialize(\"everything\")\n",
    "cmd.load(ref_pdb_path)\n",
    "\n",
    "## Color residues 10-108 and 268-329 grey50\n",
    "cmd.color(\"grey50\", \"resi 10-108\")\n",
    "cmd.color(\"grey50\", \"resi 268-329\")\n",
    "\n",
    "\n",
    "for pos, color in positions_shifted_colors.items():\n",
    "    cmd.color(color, f\"resi {pos}\")\n"
   ]
  }
 ],
 "metadata": {
  "kernelspec": {
   "display_name": "Python 3",
   "language": "python",
   "name": "python3"
  },
  "language_info": {
   "codemirror_mode": {
    "name": "ipython",
    "version": 3
   },
   "file_extension": ".py",
   "mimetype": "text/x-python",
   "name": "python",
   "nbconvert_exporter": "python",
   "pygments_lexer": "ipython3",
   "version": "3.7.13"
  }
 },
 "nbformat": 4,
 "nbformat_minor": 2
}
