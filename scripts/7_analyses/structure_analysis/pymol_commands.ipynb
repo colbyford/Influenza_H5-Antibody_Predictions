{
 "cells": [
  {
   "cell_type": "markdown",
   "metadata": {},
   "source": [
    "# PyMOL Commands"
   ]
  },
  {
   "cell_type": "code",
   "execution_count": null,
   "metadata": {},
   "outputs": [],
   "source": [
    "from pymol import cmd\n",
    "\n",
    "cmd.reinitialize(\"everything\")\n",
    "cmd.load(pdb_path)\n",
    "\n",
    "## Color chain A grey50\n",
    "cmd.color(\"grey50\", f\"chain {chain1}\")\n",
    "\n",
    "## color chain B green\n",
    "cmd.color(\"green\", f\"chain {chain2}\")"
   ]
  },
  {
   "cell_type": "code",
   "execution_count": null,
   "metadata": {},
   "outputs": [],
   "source": [
    "def highlight_residues(chain:str=\"A\", residues:list=[], style:str=\"sticks\", color:str=\"red\"):\n",
    "    \"\"\"\n",
    "    Highlight residues in a chain in a given style and color.\n",
    "\n",
    "    Parameters:\n",
    "    chain (str): Chain identifier.\n",
    "    residues (list): List of residue numbers.\n",
    "    style (str): Style to use for highlighting.\n",
    "    color (str): Color to use for highlighting.\n",
    "    \"\"\"\n",
    "    ## Generate a selection string for the residues\n",
    "    selection = \" or \".join([f\"(chain {chain} and resi {res})\" for res in residues])\n",
    "    selection_name = f\"highlight_{chain}\"\n",
    "    ## Create the selection in PyMOL\n",
    "    cmd.select(selection_name, selection)\n",
    "    ## Show the selection as sticks\n",
    "    cmd.show(style, selection_name)\n",
    "    ## Color the selection red\n",
    "    cmd.color(color, selection_name)\n"
   ]
  },
  {
   "cell_type": "code",
   "execution_count": null,
   "metadata": {},
   "outputs": [],
   "source": [
    "print(\"Chain A: \", list(set(contacts[\"resi_chainA\"].tolist())), \"\\n\",\n",
    "      \"Chain B: \", list(set(contacts[\"resi_chainB\"].tolist())))"
   ]
  },
  {
   "cell_type": "code",
   "execution_count": null,
   "metadata": {},
   "outputs": [],
   "source": [
    "## Highlight Chain A\n",
    "highlight_residues(chain = \"A\",\n",
    "                   residues = list(set(contacts[\"resi_chainA\"].tolist())),\n",
    "                   color = \"grey50\")\n",
    "\n",
    "## Highlight Chain B\n",
    "highlight_residues(chain = \"B\",\n",
    "                   residues = list(set(contacts[\"resi_chainB\"].tolist())),\n",
    "                   color = \"red\")"
   ]
  },
  {
   "cell_type": "code",
   "execution_count": null,
   "metadata": {},
   "outputs": [],
   "source": [
    "## Initialize temp file for rendering\n",
    "import tempfile\n",
    "\n",
    "tmp_png = tempfile.NamedTemporaryFile(delete=False, prefix=f\"temp_\", suffix=\".png\")\n",
    "print(tmp_png.name)"
   ]
  },
  {
   "cell_type": "code",
   "execution_count": null,
   "metadata": {},
   "outputs": [],
   "source": [
    "cmd.orient()\n",
    "# cmd.do(\"ray\")\n",
    "cmd.png(tmp_png.name, width=1920, height=1080, ray=1)"
   ]
  },
  {
   "cell_type": "code",
   "execution_count": null,
   "metadata": {},
   "outputs": [],
   "source": [
    "from IPython.display import Image\n",
    "Image(tmp_png.name)"
   ]
  },
  {
   "cell_type": "markdown",
   "metadata": {},
   "source": [
    "-----------------------------"
   ]
  },
  {
   "cell_type": "markdown",
   "metadata": {},
   "source": [
    "```py\n",
    "## Goodsell-Like Style\n",
    "unset specular\n",
    "set ray_trace_gain, 0\n",
    "# set ray_trace_mode, 3\n",
    "set ray_trace_mode, 4\n",
    "bg_color white\n",
    "set ray_trace_color, black\n",
    "unset depth_cue\n",
    "ray\n",
    "```"
   ]
  },
  {
   "cell_type": "code",
   "execution_count": null,
   "metadata": {},
   "outputs": [],
   "source": []
  }
 ],
 "metadata": {
  "language_info": {
   "name": "python"
  }
 },
 "nbformat": 4,
 "nbformat_minor": 2
}
