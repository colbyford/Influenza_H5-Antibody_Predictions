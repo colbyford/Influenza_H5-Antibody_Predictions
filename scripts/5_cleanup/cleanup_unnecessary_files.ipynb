{
 "cells": [
  {
   "attachments": {},
   "cell_type": "markdown",
   "metadata": {},
   "source": [
    "# Cleanup Unnecessary HADDOCK 3 Files"
   ]
  },
  {
   "cell_type": "code",
   "execution_count": 2,
   "metadata": {},
   "outputs": [],
   "source": [
    "import os\n",
    "import pandas as pd"
   ]
  },
  {
   "cell_type": "code",
   "execution_count": 3,
   "metadata": {},
   "outputs": [],
   "source": [
    "## Load in Experiments list and define the directory where the experiments are stored\n",
    "experiments_dir = '../../data/experiments_test'\n",
    "# experiments_dir = '../../data/experiments'\n",
    "experiments = pd.read_excel('../../Experiments.xlsx', sheet_name='Experiments')"
   ]
  },
  {
   "cell_type": "code",
   "execution_count": 12,
   "metadata": {},
   "outputs": [
    {
     "name": "stdout",
     "output_type": "stream",
     "text": [
      "Cleaning up 12H5__EPI101875...\n",
      "Cleaning up 100F4__EPI101875...\n",
      "Cleaning up 100F4__EPI101477...\n"
     ]
    }
   ],
   "source": [
    "for index, experiment in experiments.iterrows():\n",
    "    experiment_id = experiment['experiment_id']\n",
    "    experiment_output_dir = os.path.join(experiments_dir, experiment_id, 'output')\n",
    "\n",
    "    ## If the experiment output directory does not exist, skip\n",
    "    if not os.path.exists(experiment_output_dir):\n",
    "        continue\n",
    "    print(f\"Cleaning up {experiment_id}...\")\n",
    "    for subdir in os.listdir(experiment_output_dir):\n",
    "        subdir_path = os.path.join(experiment_output_dir, subdir)\n",
    "\n",
    "        ## If the subdirectory is not a directory, skip\n",
    "        if not os.path.isdir(subdir_path):\n",
    "            continue\n",
    "        ## Remove certain folders\n",
    "        for folder in [\n",
    "            '00_topoaa',\n",
    "            '01_rigidbody',\n",
    "            '02_clustfcc',\n",
    "            '03_seletopclusts',\n",
    "            '04_flexref',\n",
    "            '05_clustfcc',\n",
    "            '06_seletopclusts',\n",
    "            '07_mdref',\n",
    "            # '08_mdscoring',\n",
    "            # '09_clustfcc',\n",
    "            # '10_caprieval',\n",
    "            'data'\n",
    "            ]:\n",
    "            if folder in subdir:\n",
    "                os.system(f'rm -rf {subdir_path}')\n",
    "                break"
   ]
  },
  {
   "cell_type": "code",
   "execution_count": null,
   "metadata": {},
   "outputs": [],
   "source": []
  }
 ],
 "metadata": {
  "kernelspec": {
   "display_name": "Python 3",
   "language": "python",
   "name": "python3"
  },
  "language_info": {
   "codemirror_mode": {
    "name": "ipython",
    "version": 3
   },
   "file_extension": ".py",
   "mimetype": "text/x-python",
   "name": "python",
   "nbconvert_exporter": "python",
   "pygments_lexer": "ipython3",
   "version": "3.11.2"
  },
  "orig_nbformat": 4
 },
 "nbformat": 4,
 "nbformat_minor": 2
}
