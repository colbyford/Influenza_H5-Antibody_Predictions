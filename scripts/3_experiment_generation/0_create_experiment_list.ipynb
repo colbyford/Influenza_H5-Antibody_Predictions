{
 "cells": [
  {
   "cell_type": "markdown",
   "metadata": {},
   "source": [
    "# Create Experiment Lists\n",
    "All-by-all combinations from the antibodies and antigens"
   ]
  },
  {
   "cell_type": "code",
   "execution_count": 1,
   "metadata": {},
   "outputs": [],
   "source": [
    "import pandas as pd"
   ]
  },
  {
   "cell_type": "code",
   "execution_count": 17,
   "metadata": {},
   "outputs": [
    {
     "name": "stdout",
     "output_type": "stream",
     "text": [
      "There are 11 antibodies X 163 antigens, total of 1793 experiments.\n"
     ]
    }
   ],
   "source": [
    "antibodies = pd.read_excel('../../Experiments.xlsx', sheet_name='Antibodies')\n",
    "antibodies.sort_values(by='antibody_id', inplace=True)\n",
    "antibody_ids = antibodies['antibody_id'].tolist()\n",
    "\n",
    "antigens = pd.read_excel('../../Experiments.xlsx', sheet_name='Antigens')\n",
    "antigens.sort_values(by='antigen_id', inplace=True)\n",
    "\n",
    "antigen_ids = antigens['antigen_id'].tolist()\n",
    "\n",
    "n_experiments = len(antibody_ids) * len(antigen_ids)\n",
    "\n",
    "print(f\"There are {len(antibody_ids)} antibodies X {len(antigen_ids)} antigens, total of {n_experiments} experiments.\")"
   ]
  },
  {
   "cell_type": "code",
   "execution_count": 18,
   "metadata": {},
   "outputs": [
    {
     "name": "stdout",
     "output_type": "stream",
     "text": [
      "Experiment count matches? True\n"
     ]
    }
   ],
   "source": [
    "## Make unique list of experiment IDs\n",
    "experiments_list = list(set([f\"{x}__{y}\" for x in antibody_ids for y in antigen_ids]))\n",
    "\n",
    "## Check if there were any overlapping names\n",
    "print(f\"Experiment count matches? {len(experiments_list) == n_experiments}\")"
   ]
  },
  {
   "cell_type": "code",
   "execution_count": 20,
   "metadata": {},
   "outputs": [
    {
     "data": {
      "text/html": [
       "<div>\n",
       "<style scoped>\n",
       "    .dataframe tbody tr th:only-of-type {\n",
       "        vertical-align: middle;\n",
       "    }\n",
       "\n",
       "    .dataframe tbody tr th {\n",
       "        vertical-align: top;\n",
       "    }\n",
       "\n",
       "    .dataframe thead th {\n",
       "        text-align: right;\n",
       "    }\n",
       "</style>\n",
       "<table border=\"1\" class=\"dataframe\">\n",
       "  <thead>\n",
       "    <tr style=\"text-align: right;\">\n",
       "      <th></th>\n",
       "      <th>experiment_id</th>\n",
       "      <th>antibody_id</th>\n",
       "      <th>antigen_id</th>\n",
       "    </tr>\n",
       "  </thead>\n",
       "  <tbody>\n",
       "    <tr>\n",
       "      <th>0</th>\n",
       "      <td>H5.3__EPI2800361</td>\n",
       "      <td>H5.3</td>\n",
       "      <td>EPI2800361</td>\n",
       "    </tr>\n",
       "    <tr>\n",
       "      <th>1</th>\n",
       "      <td>AVFluIgG01__EPI454493</td>\n",
       "      <td>AVFluIgG01</td>\n",
       "      <td>EPI454493</td>\n",
       "    </tr>\n",
       "    <tr>\n",
       "      <th>2</th>\n",
       "      <td>13D4__EPI687187</td>\n",
       "      <td>13D4</td>\n",
       "      <td>EPI687187</td>\n",
       "    </tr>\n",
       "    <tr>\n",
       "      <th>3</th>\n",
       "      <td>FLD194__EPI340788</td>\n",
       "      <td>FLD194</td>\n",
       "      <td>EPI340788</td>\n",
       "    </tr>\n",
       "    <tr>\n",
       "      <th>4</th>\n",
       "      <td>13D4__EPI1158808</td>\n",
       "      <td>13D4</td>\n",
       "      <td>EPI1158808</td>\n",
       "    </tr>\n",
       "  </tbody>\n",
       "</table>\n",
       "</div>"
      ],
      "text/plain": [
       "           experiment_id antibody_id  antigen_id\n",
       "0       H5.3__EPI2800361        H5.3  EPI2800361\n",
       "1  AVFluIgG01__EPI454493  AVFluIgG01   EPI454493\n",
       "2        13D4__EPI687187        13D4   EPI687187\n",
       "3      FLD194__EPI340788      FLD194   EPI340788\n",
       "4       13D4__EPI1158808        13D4  EPI1158808"
      ]
     },
     "execution_count": 20,
     "metadata": {},
     "output_type": "execute_result"
    }
   ],
   "source": [
    "## Create a dataframe with all the experiments\n",
    "experiments_df = pd.DataFrame(experiments_list, columns=['experiment_id'])\n",
    "\n",
    "## Split the experiment_id into antibody_id and antigen_id\n",
    "# experiments_df[['antibody_id', 'antigen_id']] = experiments_df['experiment_id'].str.split('__', expand=True)\n",
    "\n",
    "experiments_df.head()"
   ]
  },
  {
   "cell_type": "code",
   "execution_count": 21,
   "metadata": {},
   "outputs": [],
   "source": [
    "## Write to file\n",
    "experiments_df.to_csv('../4_experiment_submission/experiments_full.csv', index=False)"
   ]
  }
 ],
 "metadata": {
  "kernelspec": {
   "display_name": "base",
   "language": "python",
   "name": "python3"
  },
  "language_info": {
   "codemirror_mode": {
    "name": "ipython",
    "version": 3
   },
   "file_extension": ".py",
   "mimetype": "text/x-python",
   "name": "python",
   "nbconvert_exporter": "python",
   "pygments_lexer": "ipython3",
   "version": "3.8.5"
  }
 },
 "nbformat": 4,
 "nbformat_minor": 2
}
