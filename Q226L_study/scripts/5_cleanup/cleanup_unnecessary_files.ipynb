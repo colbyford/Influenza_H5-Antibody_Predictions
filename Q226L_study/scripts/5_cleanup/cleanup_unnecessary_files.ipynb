{
 "cells": [
  {
   "attachments": {},
   "cell_type": "markdown",
   "metadata": {},
   "source": [
    "# Cleanup Unnecessary HADDOCK 3 Files"
   ]
  },
  {
   "cell_type": "code",
   "execution_count": 1,
   "metadata": {},
   "outputs": [],
   "source": [
    "import os\n",
    "import pandas as pd"
   ]
  },
  {
   "cell_type": "code",
   "execution_count": 2,
   "metadata": {},
   "outputs": [],
   "source": [
    "## Load in Experiments list and define the directory where the experiments are stored\n",
    "experiments_dir = '../../data/results'\n",
    "\n",
    "experiments = pd.read_excel('../../Experiments.xlsx', sheet_name='Experiments', engine='openpyxl')"
   ]
  },
  {
   "cell_type": "code",
   "execution_count": 4,
   "metadata": {},
   "outputs": [
    {
     "name": "stdout",
     "output_type": "stream",
     "text": [
      "Cleaning up FLD194__YP_308669.1...\n",
      "Cleaning up H5.3__YP_308669.1...\n",
      "Cleaning up 65C6__YP_308669.1...\n",
      "Cleaning up 100F4__YP_308669.1...\n",
      "Cleaning up 3C11__YP_308669.1...\n",
      "Cleaning up AVFluIgG01__YP_308669.1...\n",
      "Cleaning up FLD21.140__YP_308669.1...\n",
      "Cleaning up H5M9__YP_308669.1...\n",
      "Cleaning up 13D4__YP_308669.1...\n",
      "Cleaning up AVFluIgG03__YP_308669.1...\n",
      "Cleaning up 12H5__YP_308669.1...\n",
      "Cleaning up FLD194__WYN03019.1...\n",
      "Cleaning up H5.3__WYN03019.1...\n",
      "Cleaning up 65C6__WYN03019.1...\n",
      "Cleaning up 100F4__WYN03019.1...\n",
      "Cleaning up 3C11__WYN03019.1...\n",
      "Cleaning up AVFluIgG01__WYN03019.1...\n",
      "Cleaning up FLD21.140__WYN03019.1...\n",
      "Cleaning up H5M9__WYN03019.1...\n",
      "Cleaning up 13D4__WYN03019.1...\n",
      "Cleaning up AVFluIgG03__WYN03019.1...\n",
      "Cleaning up 12H5__WYN03019.1...\n",
      "Cleaning up FLD194__AAT73273.1...\n",
      "Cleaning up H5.3__AAT73273.1...\n",
      "Cleaning up 65C6__AAT73273.1...\n",
      "Cleaning up 100F4__AAT73273.1...\n",
      "Cleaning up 3C11__AAT73273.1...\n",
      "Cleaning up AVFluIgG01__AAT73273.1...\n",
      "Cleaning up FLD21.140__AAT73273.1...\n",
      "Cleaning up H5M9__AAT73273.1...\n",
      "Cleaning up 13D4__AAT73273.1...\n",
      "Cleaning up AVFluIgG03__AAT73273.1...\n",
      "Cleaning up 12H5__AAT73273.1...\n"
     ]
    }
   ],
   "source": [
    "for index, experiment in experiments.iterrows():\n",
    "    experiment_id = experiment['experiment_id']\n",
    "    experiment_output_dir = os.path.join(experiments_dir, experiment_id, 'output')\n",
    "    ## If the experiment output directory does not exist, skip\n",
    "    if not os.path.exists(experiment_output_dir):\n",
    "        continue\n",
    "    print(f\"Cleaning up {experiment_id}...\")\n",
    "    for subdir in os.listdir(experiment_output_dir):\n",
    "        subdir_path = os.path.join(experiment_output_dir, subdir)\n",
    "        ## If the subdirectory is not a directory, skip\n",
    "        if not os.path.isdir(subdir_path):\n",
    "            continue\n",
    "        ## Remove certain folders\n",
    "        for folder in [\n",
    "            '00_topoaa',\n",
    "            '01_rigidbody',\n",
    "            '02_clustfcc',\n",
    "            '03_seletopclusts',\n",
    "            '04_flexref',\n",
    "            '05_clustfcc',\n",
    "            '06_seletopclusts',\n",
    "            '07_mdref',\n",
    "            # '08_mdscoring',\n",
    "            # '09_clustfcc',\n",
    "            # '10_caprieval',\n",
    "            'data'\n",
    "            ]:\n",
    "            if folder in subdir:\n",
    "                # print(f\"Removing {subdir_path}\")\n",
    "                os.system(f'rm -rf {subdir_path}')\n",
    "                break"
   ]
  },
  {
   "cell_type": "code",
   "execution_count": null,
   "metadata": {},
   "outputs": [],
   "source": []
  }
 ],
 "metadata": {
  "kernelspec": {
   "display_name": "base",
   "language": "python",
   "name": "python3"
  },
  "language_info": {
   "codemirror_mode": {
    "name": "ipython",
    "version": 3
   },
   "file_extension": ".py",
   "mimetype": "text/x-python",
   "name": "python",
   "nbconvert_exporter": "python",
   "pygments_lexer": "ipython3",
   "version": "3.10.15"
  },
  "orig_nbformat": 4
 },
 "nbformat": 4,
 "nbformat_minor": 2
}
