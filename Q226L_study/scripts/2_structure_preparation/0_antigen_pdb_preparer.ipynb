{
 "cells": [
  {
   "cell_type": "markdown",
   "metadata": {},
   "source": [
    "# Antigen PDB Preparer\n",
    "(Renumberer and Rechainer)"
   ]
  },
  {
   "cell_type": "code",
   "execution_count": 4,
   "metadata": {},
   "outputs": [],
   "source": [
    "import pandas as pd\n",
    "import pymol.cmd as cmd\n",
    "import os"
   ]
  },
  {
   "cell_type": "code",
   "execution_count": 5,
   "metadata": {},
   "outputs": [],
   "source": [
    "antigens = pd.read_excel('../../Experiments.xlsx', sheet_name='Antigens')"
   ]
  },
  {
   "cell_type": "code",
   "execution_count": 7,
   "metadata": {},
   "outputs": [
    {
     "name": "stdout",
     "output_type": "stream",
     "text": [
      "YP_308669.1\n",
      "\tMaking: ../../data/structures/antigens/fold_aat73273_1/YP_308669.1_renumberedAplus110_oneBchain.pdb\n",
      "WYN03019.1\n",
      "\tMaking: ../../data/structures/antigens/fold_wyn03019_1/WYN03019.1_renumberedAplus110_oneBchain.pdb\n",
      "AAT73273.1\n",
      "\tMaking: ../../data/structures/antigens/fold_aat73273_1/AAT73273.1_renumberedAplus110_oneBchain.pdb\n"
     ]
    }
   ],
   "source": [
    "for index, antigen in antigens.iterrows():\n",
    "    print(antigen['antigen_id'])\n",
    "    file = f\"../../{antigen['antigen_pdb_path_original']}\"\n",
    "\n",
    "    # output_file = file.replace(\".pdb\", \"_renumberedAplus110_oneBchain.pdb\")\n",
    "    output_file = f\"../../{os.path.dirname(antigen['antigen_pdb_path_original'])}/{antigen['antigen_id']}_renumberedAplus110_oneBchain.pdb\"\n",
    "    os.makedirs(os.path.dirname(output_file), exist_ok=True)\n",
    "    print(f\"\\tMaking: {output_file}\")\n",
    "\n",
    "    ## Read in file\n",
    "    cmd.load(file)\n",
    "\n",
    "    ## Put everything in chain B\n",
    "    cmd.alter('all', \"chain='B'\")\n",
    "    ## Renumber to start at 111\n",
    "    cmd.alter('chain B', 'resi=int(resi)+110')\n",
    "\n",
    "    ## Save the PDB file\n",
    "    cmd.save(output_file, selection='all', format='pdb')\n",
    "    cmd.reinitialize('everything')"
   ]
  },
  {
   "cell_type": "code",
   "execution_count": null,
   "metadata": {},
   "outputs": [],
   "source": []
  }
 ],
 "metadata": {
  "kernelspec": {
   "display_name": "base",
   "language": "python",
   "name": "python3"
  },
  "language_info": {
   "codemirror_mode": {
    "name": "ipython",
    "version": 3
   },
   "file_extension": ".py",
   "mimetype": "text/x-python",
   "name": "python",
   "nbconvert_exporter": "python",
   "pygments_lexer": "ipython3",
   "version": "3.10.15"
  }
 },
 "nbformat": 4,
 "nbformat_minor": 2
}
