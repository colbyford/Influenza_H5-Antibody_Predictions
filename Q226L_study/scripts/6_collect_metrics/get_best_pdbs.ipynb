{
 "cells": [
  {
   "cell_type": "markdown",
   "metadata": {},
   "source": [
    "# Get Best PDBs"
   ]
  },
  {
   "cell_type": "code",
   "execution_count": 1,
   "metadata": {},
   "outputs": [],
   "source": [
    "import pandas as pd\n",
    "import os"
   ]
  },
  {
   "cell_type": "code",
   "execution_count": 4,
   "metadata": {},
   "outputs": [],
   "source": [
    "## Read in Experiments worksheet\n",
    "experiments = pd.read_excel('../../Experiments.xlsx', sheet_name='Experiments')#.head(0)\n",
    "\n",
    "## Filter to experiments that are complete\n",
    "experiments = experiments[experiments['complete'] == True]"
   ]
  },
  {
   "cell_type": "code",
   "execution_count": 7,
   "metadata": {},
   "outputs": [
    {
     "name": "stdout",
     "output_type": "stream",
     "text": [
      "Copying ../../data/results/100F4__AAT73273.1/output/08_mdscoring/mdscoring_8.pdb to ../../data/best_pdbs/100F4__AAT73273.1.pdb\n",
      "Copying ../../data/results/100F4__WYN03019.1/output/08_mdscoring/mdscoring_1.pdb to ../../data/best_pdbs/100F4__WYN03019.1.pdb\n",
      "Copying ../../data/results/100F4__YP_308669.1/output/08_mdscoring/mdscoring_2.pdb to ../../data/best_pdbs/100F4__YP_308669.1.pdb\n",
      "Copying ../../data/results/12H5__AAT73273.1/output/08_mdscoring/mdscoring_2.pdb to ../../data/best_pdbs/12H5__AAT73273.1.pdb\n",
      "Copying ../../data/results/12H5__WYN03019.1/output/08_mdscoring/mdscoring_1.pdb to ../../data/best_pdbs/12H5__WYN03019.1.pdb\n",
      "Copying ../../data/results/12H5__YP_308669.1/output/08_mdscoring/mdscoring_4.pdb to ../../data/best_pdbs/12H5__YP_308669.1.pdb\n",
      "Copying ../../data/results/13D4__AAT73273.1/output/08_mdscoring/mdscoring_1.pdb to ../../data/best_pdbs/13D4__AAT73273.1.pdb\n",
      "Copying ../../data/results/13D4__WYN03019.1/output/08_mdscoring/mdscoring_6.pdb to ../../data/best_pdbs/13D4__WYN03019.1.pdb\n",
      "Copying ../../data/results/13D4__YP_308669.1/output/08_mdscoring/mdscoring_3.pdb to ../../data/best_pdbs/13D4__YP_308669.1.pdb\n",
      "Copying ../../data/results/3C11__AAT73273.1/output/08_mdscoring/mdscoring_1.pdb to ../../data/best_pdbs/3C11__AAT73273.1.pdb\n",
      "Copying ../../data/results/3C11__WYN03019.1/output/08_mdscoring/mdscoring_2.pdb to ../../data/best_pdbs/3C11__WYN03019.1.pdb\n",
      "Copying ../../data/results/3C11__YP_308669.1/output/08_mdscoring/mdscoring_3.pdb to ../../data/best_pdbs/3C11__YP_308669.1.pdb\n",
      "Copying ../../data/results/65C6__AAT73273.1/output/08_mdscoring/mdscoring_4.pdb to ../../data/best_pdbs/65C6__AAT73273.1.pdb\n",
      "Copying ../../data/results/65C6__WYN03019.1/output/08_mdscoring/mdscoring_9.pdb to ../../data/best_pdbs/65C6__WYN03019.1.pdb\n",
      "Copying ../../data/results/65C6__YP_308669.1/output/08_mdscoring/mdscoring_2.pdb to ../../data/best_pdbs/65C6__YP_308669.1.pdb\n",
      "Copying ../../data/results/AVFluIgG01__AAT73273.1/output/08_mdscoring/mdscoring_3.pdb to ../../data/best_pdbs/AVFluIgG01__AAT73273.1.pdb\n",
      "Copying ../../data/results/AVFluIgG01__WYN03019.1/output/08_mdscoring/mdscoring_2.pdb to ../../data/best_pdbs/AVFluIgG01__WYN03019.1.pdb\n",
      "Copying ../../data/results/AVFluIgG01__YP_308669.1/output/08_mdscoring/mdscoring_2.pdb to ../../data/best_pdbs/AVFluIgG01__YP_308669.1.pdb\n",
      "Copying ../../data/results/AVFluIgG03__AAT73273.1/output/08_mdscoring/mdscoring_3.pdb to ../../data/best_pdbs/AVFluIgG03__AAT73273.1.pdb\n",
      "Copying ../../data/results/AVFluIgG03__WYN03019.1/output/08_mdscoring/mdscoring_9.pdb to ../../data/best_pdbs/AVFluIgG03__WYN03019.1.pdb\n",
      "Copying ../../data/results/AVFluIgG03__YP_308669.1/output/08_mdscoring/mdscoring_4.pdb to ../../data/best_pdbs/AVFluIgG03__YP_308669.1.pdb\n",
      "Copying ../../data/results/FLD194__AAT73273.1/output/08_mdscoring/mdscoring_2.pdb to ../../data/best_pdbs/FLD194__AAT73273.1.pdb\n",
      "Copying ../../data/results/FLD194__WYN03019.1/output/08_mdscoring/mdscoring_2.pdb to ../../data/best_pdbs/FLD194__WYN03019.1.pdb\n",
      "Copying ../../data/results/FLD194__YP_308669.1/output/08_mdscoring/mdscoring_2.pdb to ../../data/best_pdbs/FLD194__YP_308669.1.pdb\n",
      "Copying ../../data/results/FLD21.140__AAT73273.1/output/08_mdscoring/mdscoring_1.pdb to ../../data/best_pdbs/FLD21.140__AAT73273.1.pdb\n",
      "Copying ../../data/results/FLD21.140__WYN03019.1/output/08_mdscoring/mdscoring_8.pdb to ../../data/best_pdbs/FLD21.140__WYN03019.1.pdb\n",
      "Copying ../../data/results/FLD21.140__YP_308669.1/output/08_mdscoring/mdscoring_2.pdb to ../../data/best_pdbs/FLD21.140__YP_308669.1.pdb\n",
      "Copying ../../data/results/H5.3__AAT73273.1/output/08_mdscoring/mdscoring_8.pdb to ../../data/best_pdbs/H5.3__AAT73273.1.pdb\n",
      "Copying ../../data/results/H5.3__WYN03019.1/output/08_mdscoring/mdscoring_5.pdb to ../../data/best_pdbs/H5.3__WYN03019.1.pdb\n",
      "Copying ../../data/results/H5.3__YP_308669.1/output/08_mdscoring/mdscoring_1.pdb to ../../data/best_pdbs/H5.3__YP_308669.1.pdb\n",
      "Copying ../../data/results/H5M9__WYN03019.1/output/08_mdscoring/mdscoring_4.pdb to ../../data/best_pdbs/H5M9__WYN03019.1.pdb\n",
      "Copying ../../data/results/H5M9__YP_308669.1/output/08_mdscoring/mdscoring_1.pdb to ../../data/best_pdbs/H5M9__YP_308669.1.pdb\n"
     ]
    }
   ],
   "source": [
    "## Copy best pdbs to new directory, renaming them to their experiment_id\n",
    "for index, experiment in experiments.iterrows():\n",
    "    experiment_id = experiment['experiment_id']\n",
    "    best_pdb = experiment['best_model_name']\n",
    "    orig_pdb_path = f'../../data/results/{experiment_id}/output/08_mdscoring/{best_pdb}'\n",
    "    new_pdb_path = f'../../data/best_pdbs/{experiment_id}.pdb'\n",
    "    \n",
    "    print(f'Copying {orig_pdb_path} to {new_pdb_path}')\n",
    "    os.system(f'cp {orig_pdb_path} {new_pdb_path}')\n",
    "    # os.system(f'copy {orig_pdb_path} {new_pdb_path}')"
   ]
  },
  {
   "cell_type": "code",
   "execution_count": null,
   "metadata": {},
   "outputs": [],
   "source": []
  }
 ],
 "metadata": {
  "kernelspec": {
   "display_name": "base",
   "language": "python",
   "name": "python3"
  },
  "language_info": {
   "codemirror_mode": {
    "name": "ipython",
    "version": 3
   },
   "file_extension": ".py",
   "mimetype": "text/x-python",
   "name": "python",
   "nbconvert_exporter": "python",
   "pygments_lexer": "ipython3",
   "version": "3.7.13"
  }
 },
 "nbformat": 4,
 "nbformat_minor": 2
}
