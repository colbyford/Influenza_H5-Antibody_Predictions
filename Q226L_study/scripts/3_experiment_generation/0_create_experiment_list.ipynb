{
 "cells": [
  {
   "attachments": {},
   "cell_type": "markdown",
   "metadata": {},
   "source": [
    "# Create Experiment Lists\n",
    "All-by-all combinations from the antibodies and antigens"
   ]
  },
  {
   "cell_type": "code",
   "execution_count": 1,
   "metadata": {},
   "outputs": [],
   "source": [
    "import pandas as pd"
   ]
  },
  {
   "cell_type": "code",
   "execution_count": 2,
   "metadata": {},
   "outputs": [
    {
     "name": "stdout",
     "output_type": "stream",
     "text": [
      "There are 11 antibodies X 3 antigens, total of 33 experiments.\n"
     ]
    }
   ],
   "source": [
    "antibodies = pd.read_excel('../../Experiments.xlsx', sheet_name='Antibodies')\n",
    "antibodies.sort_values(by='antibody_id', inplace=True)\n",
    "antibody_ids = antibodies['antibody_id'].tolist()\n",
    "\n",
    "antigens = pd.read_excel('../../Experiments.xlsx', sheet_name='Antigens')\n",
    "antigens.sort_values(by='antigen_id', inplace=True)\n",
    "\n",
    "antigen_ids = antigens['antigen_id'].tolist()\n",
    "\n",
    "## Manually set antigen_ids to missing ones\n",
    "# antigen_ids = ['EPI3358339']\n",
    "\n",
    "n_experiments = len(antibody_ids) * len(antigen_ids)\n",
    "\n",
    "print(f\"There are {len(antibody_ids)} antibodies X {len(antigen_ids)} antigens, total of {n_experiments} experiments.\")"
   ]
  },
  {
   "cell_type": "code",
   "execution_count": 3,
   "metadata": {},
   "outputs": [
    {
     "name": "stdout",
     "output_type": "stream",
     "text": [
      "Experiment count matches? True\n"
     ]
    }
   ],
   "source": [
    "## Make unique list of experiment IDs\n",
    "experiments_list = list(set([f\"{x}__{y}\" for x in antibody_ids for y in antigen_ids]))\n",
    "\n",
    "## Check if there were any overlapping names\n",
    "print(f\"Experiment count matches? {len(experiments_list) == n_experiments}\")"
   ]
  },
  {
   "cell_type": "code",
   "execution_count": 4,
   "metadata": {},
   "outputs": [
    {
     "data": {
      "text/html": [
       "<div>\n",
       "<style scoped>\n",
       "    .dataframe tbody tr th:only-of-type {\n",
       "        vertical-align: middle;\n",
       "    }\n",
       "\n",
       "    .dataframe tbody tr th {\n",
       "        vertical-align: top;\n",
       "    }\n",
       "\n",
       "    .dataframe thead th {\n",
       "        text-align: right;\n",
       "    }\n",
       "</style>\n",
       "<table border=\"1\" class=\"dataframe\">\n",
       "  <thead>\n",
       "    <tr style=\"text-align: right;\">\n",
       "      <th></th>\n",
       "      <th>experiment_id</th>\n",
       "    </tr>\n",
       "  </thead>\n",
       "  <tbody>\n",
       "    <tr>\n",
       "      <th>0</th>\n",
       "      <td>12H5__AAT73273.1</td>\n",
       "    </tr>\n",
       "    <tr>\n",
       "      <th>1</th>\n",
       "      <td>FLD194__WYN03019.1</td>\n",
       "    </tr>\n",
       "    <tr>\n",
       "      <th>2</th>\n",
       "      <td>3C11__YP_308669.1</td>\n",
       "    </tr>\n",
       "    <tr>\n",
       "      <th>3</th>\n",
       "      <td>H5M9__YP_308669.1</td>\n",
       "    </tr>\n",
       "    <tr>\n",
       "      <th>4</th>\n",
       "      <td>100F4__WYN03019.1</td>\n",
       "    </tr>\n",
       "  </tbody>\n",
       "</table>\n",
       "</div>"
      ],
      "text/plain": [
       "        experiment_id\n",
       "0    12H5__AAT73273.1\n",
       "1  FLD194__WYN03019.1\n",
       "2   3C11__YP_308669.1\n",
       "3   H5M9__YP_308669.1\n",
       "4   100F4__WYN03019.1"
      ]
     },
     "execution_count": 4,
     "metadata": {},
     "output_type": "execute_result"
    }
   ],
   "source": [
    "## Create a dataframe with all the experiments\n",
    "experiments_df = pd.DataFrame(experiments_list, columns=['experiment_id'])\n",
    "\n",
    "## Split the experiment_id into antibody_id and antigen_id\n",
    "# experiments_df[['antibody_id', 'antigen_id']] = experiments_df['experiment_id'].str.split('__', expand=True)\n",
    "\n",
    "experiments_df.head()"
   ]
  },
  {
   "cell_type": "code",
   "execution_count": 5,
   "metadata": {},
   "outputs": [],
   "source": [
    "## Write to file\n",
    "experiments_df.to_csv('../4_experiment_submission/experiments_full.csv', index=False)"
   ]
  }
 ],
 "metadata": {
  "kernelspec": {
   "display_name": "base",
   "language": "python",
   "name": "python3"
  },
  "language_info": {
   "codemirror_mode": {
    "name": "ipython",
    "version": 3
   },
   "file_extension": ".py",
   "mimetype": "text/x-python",
   "name": "python",
   "nbconvert_exporter": "python",
   "pygments_lexer": "ipython3",
   "version": "3.10.15"
  }
 },
 "nbformat": 4,
 "nbformat_minor": 2
}
